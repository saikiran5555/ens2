{
 "cells": [
  {
   "cell_type": "markdown",
   "id": "e4fb727e",
   "metadata": {},
   "source": [
    "Bagging (Bootstrap Aggregating) is an ensemble learning technique that reduces overfitting in decision trees through several mechanisms:\n",
    "\n",
    "Decreased Variance: Decision trees are prone to high variance, meaning they can fit noise in the training data and result in overfitting. Bagging reduces variance by averaging the predictions of multiple trees trained on different subsets of the training data. Each decision tree in the bagging ensemble is trained on a bootstrap sample (a random sample with replacement) of the original training data. As a result, each tree learns slightly different aspects of the data, and their predictions are averaged, leading to a smoother and more generalized decision boundary.\n",
    "\n",
    "Reduced Sensitivity to Training Data: Because each decision tree in the bagging ensemble is trained on a different subset of the training data, they are less sensitive to individual training instances or outliers. This reduces the risk of memorizing noise in the training data and improves the model's ability to generalize to unseen data.\n",
    "\n",
    "Improved Generalization: By combining multiple trees' predictions through averaging, bagging reduces the risk of overfitting to the training data and improves the model's generalization performance on unseen data. The ensemble model tends to capture the underlying patterns in the data more accurately and is less likely to be influenced by noise or irrelevant features.\n",
    "\n",
    "Stability: Bagging makes the decision tree ensemble more stable by reducing the impact of outliers or small changes in the training data. Since each tree in the ensemble is trained on a different subset of the data, the overall model's predictions are more robust and less sensitive to fluctuations in the training data."
   ]
  }
 ],
 "metadata": {
  "kernelspec": {
   "display_name": "Python 3 (ipykernel)",
   "language": "python",
   "name": "python3"
  },
  "language_info": {
   "codemirror_mode": {
    "name": "ipython",
    "version": 3
   },
   "file_extension": ".py",
   "mimetype": "text/x-python",
   "name": "python",
   "nbconvert_exporter": "python",
   "pygments_lexer": "ipython3",
   "version": "3.10.9"
  }
 },
 "nbformat": 4,
 "nbformat_minor": 5
}
